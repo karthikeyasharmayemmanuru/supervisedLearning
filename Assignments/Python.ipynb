{
 "cells": [
  {
   "cell_type": "raw",
   "metadata": {},
   "source": [
    "# Questions on String"
   ]
  },
  {
   "cell_type": "code",
   "execution_count": 64,
   "metadata": {},
   "outputs": [
    {
     "name": "stdout",
     "output_type": "stream",
     "text": [
      " I am very keen in building up my career in Data Science, but not sure from where to start. If I search the web it throws me thousands of articles, few are relevant others make me confused, again I come around to the same page. Supervised has provided me a good platform to remove all such qualms which were wrangling in my mind\n"
     ]
    }
   ],
   "source": [
    "mystr = \" I am very keen in building up my career in Data Science, but not sure from where to start. If I search the web it throws me thousands of articles, few are relevant others make me confused, again I come around to the same page. Supervised has provided me a good platform to remove all such qualms which were wrangling in my mind\"\n",
    "print(mystr)"
   ]
  },
  {
   "cell_type": "code",
   "execution_count": 65,
   "metadata": {},
   "outputs": [
    {
     "data": {
      "text/plain": [
       "4.2063492063492065"
      ]
     },
     "execution_count": 65,
     "metadata": {},
     "output_type": "execute_result"
    }
   ],
   "source": [
    "# 1. Average length of a string\n",
    "average = sum(len(word) for word in (mystr.split())) / len(mystr.split())\n",
    "average"
   ]
  },
  {
   "cell_type": "code",
   "execution_count": 66,
   "metadata": {},
   "outputs": [
    {
     "data": {
      "text/plain": [
       "' i am very keen in building up my career in data science, but not sure from where to start. if i search the web it throws me thousands of articles, few are relevant others make me confused, again i come around to the same page. supervised has provided me a good platform to remove all such qualms which were wrangling in my mind'"
      ]
     },
     "execution_count": 66,
     "metadata": {},
     "output_type": "execute_result"
    }
   ],
   "source": [
    "# 2. Lower the text in the string.\n",
    "mystr.lower()"
   ]
  },
  {
   "cell_type": "code",
   "execution_count": 67,
   "metadata": {},
   "outputs": [
    {
     "name": "stdout",
     "output_type": "stream",
     "text": [
      " I am very keen in building up my career in Data Science but not sure from where to start If I search the web it throws me thousands of articles few are relevant others make me confused again I come around to the same page Supervised has provided me a good platform to remove all such qualms which were wrangling in my mind\n"
     ]
    }
   ],
   "source": [
    "# 3. Try to get the clean text removing the punctuation from the string.\n",
    "splChars = '''!()-[]{};:'\"\\,<>./?@#$%^&*_~'''\n",
    "planeString =''\n",
    "for word in mystr:\n",
    "    if word not in splChars:\n",
    "        planeString = planeString + word\n",
    "        \n",
    "print(planeString)"
   ]
  },
  {
   "cell_type": "code",
   "execution_count": 68,
   "metadata": {},
   "outputs": [
    {
     "data": {
      "text/plain": [
       "'Data Science'"
      ]
     },
     "execution_count": 68,
     "metadata": {},
     "output_type": "execute_result"
    }
   ],
   "source": [
    "# 4. Extract word \"Data Science\" from the string.\n",
    "word = 'Data Science'\n",
    "idx = mystr.find(word)\n",
    "mystr[idx:(idx+len(word))]"
   ]
  },
  {
   "cell_type": "code",
   "execution_count": 69,
   "metadata": {},
   "outputs": [
    {
     "name": "stdout",
     "output_type": "stream",
     "text": [
      "{'i': 3, 'am': 1, 'very': 1, 'keen': 1, 'in': 3, 'building': 1, 'up': 1, 'my': 2, 'career': 1, 'data': 1, 'science': 1, 'but': 1, 'not': 1, 'sure': 1, 'from': 1, 'where': 1, 'to': 3, 'start': 1, 'if': 1, 'search': 1, 'the': 2, 'web': 1, 'it': 1, 'throws': 1, 'me': 3, 'thousands': 1, 'of': 1, 'articles': 1, 'few': 1, 'are': 1, 'relevant': 1, 'others': 1, 'make': 1, 'confused': 1, 'again': 1, 'come': 1, 'around': 1, 'same': 1, 'page': 1, 'supervised': 1, 'has': 1, 'provided': 1, 'a': 1, 'good': 1, 'platform': 1, 'remove': 1, 'all': 1, 'such': 1, 'qualms': 1, 'which': 1, 'were': 1, 'wrangling': 1, 'mind': 1}\n"
     ]
    }
   ],
   "source": [
    "# 5. Find the frequency of words used in the string.\n",
    "def word_frequencies(str):\n",
    "    frequencies = dict()\n",
    "    \n",
    "    for word in str.split():\n",
    "        if word in frequencies:\n",
    "            frequencies[word] += 1\n",
    "        else:\n",
    "            frequencies[word] = 1\n",
    "    return frequencies\n",
    "\n",
    "print(word_frequencies(planeString.lower()))"
   ]
  },
  {
   "cell_type": "code",
   "execution_count": 70,
   "metadata": {},
   "outputs": [],
   "source": [
    "# 6. Fetch the duplicate pairs used in the string."
   ]
  },
  {
   "cell_type": "code",
   "execution_count": 71,
   "metadata": {},
   "outputs": [
    {
     "name": "stdout",
     "output_type": "stream",
     "text": [
      " I am very keen in building up my career in Data Science, but not sure from where to start. If I search the web it throws me thousands of articles, few are relevant others make me confused, again I come around to the same page. Unsupervised has provided me a good platform to remove all such qualms which were wrangling in my mind\n"
     ]
    }
   ],
   "source": [
    "# 7. Can you change the word \"Supervised\" to \"Unsupervised\" in the string\n",
    "print(mystr.replace(\"Supervised\", \"Unsupervised\"))  \n",
    "  "
   ]
  },
  {
   "cell_type": "code",
   "execution_count": 72,
   "metadata": {},
   "outputs": [
    {
     "name": "stdout",
     "output_type": "stream",
     "text": [
      "[' I am very keen in building up my career in Data Science, but not sure from where to start', ' If I search the web it throws me thousands of articles, few are relevant others make me confused, again I come around to the same page', ' Supervised has provided me a good platform to remove all such qualms which were wrangling in my mind']\n"
     ]
    }
   ],
   "source": [
    "# 8. Splitting of the string with a dot operator(.)\n",
    "print(mystr.split('.'))"
   ]
  },
  {
   "cell_type": "code",
   "execution_count": 73,
   "metadata": {},
   "outputs": [
    {
     "name": "stdout",
     "output_type": "stream",
     "text": [
      "science\n",
      "sure\n",
      "where\n",
      "the\n",
      "me\n",
      "are\n",
      "make\n",
      "me\n",
      "come\n",
      "the\n",
      "same\n",
      "page\n",
      "me\n",
      "remove\n",
      "were\n",
      "\n",
      "Total no.of words ends with (e):  15\n"
     ]
    }
   ],
   "source": [
    "# 9. Find the words from the string which ends with \"e\"\n",
    "mywords = planeString.lower().split()\n",
    "count = 0\n",
    "for word in mywords:\n",
    "    if word.endswith('e'):\n",
    "        print (word)\n",
    "        count = count + 1\n",
    "print ('\\nTotal no.of words ends with (e): ', count)"
   ]
  },
  {
   "cell_type": "code",
   "execution_count": 74,
   "metadata": {},
   "outputs": [
    {
     "name": "stdout",
     "output_type": "stream",
     "text": [
      "22\n"
     ]
    }
   ],
   "source": [
    "# 10. Figure out number of a's used in the string.\n",
    "count = 0\n",
    "for char in planeString.lower():\n",
    "    if(char == 'a'):\n",
    "        count = count + 1\n",
    "        \n",
    "print(count)"
   ]
  },
  {
   "cell_type": "raw",
   "metadata": {},
   "source": [
    "Questions on Dictionary"
   ]
  },
  {
   "cell_type": "raw",
   "metadata": {},
   "source": [
    "In the weekend , I purchased 250g of apple, 500g of sugar, 2.5 kg of rice, 2.5 litres of milk and finally 1 dozen of egg.\n",
    "1. Can you help me frame the above purchase in the form of dictionary with commodities as keys to it.\n",
    "\n",
    "2. I forgot to mention another item, 1kg of atta packet. Can you also add it ?\n",
    "\n",
    "3. Instead of 2kg of rice, I bought only 1kg of rice. Can you change the corresponding value ?\n",
    "\n",
    "4. Can you list out all these items using a loop."
   ]
  },
  {
   "cell_type": "code",
   "execution_count": 15,
   "metadata": {},
   "outputs": [
    {
     "name": "stdout",
     "output_type": "stream",
     "text": [
      "{'apple': '250 g', 'sugar': '500 g', 'rice': '2.5 kg', 'milk': '2.5 litre', 'eggs': '1 dozen'}\n"
     ]
    }
   ],
   "source": [
    "# Can you help me frame the above purchase in the form of dictionary with commodities as keys to it.\n",
    "productDict = {'apple': '250 g', 'sugar': '500 g', 'rice': '2.5 kg', 'milk': '2.5 litre', 'eggs': '1 dozen'}\n",
    "print(productDict)"
   ]
  },
  {
   "cell_type": "code",
   "execution_count": 16,
   "metadata": {},
   "outputs": [
    {
     "name": "stdout",
     "output_type": "stream",
     "text": [
      "{'apple': '250 g', 'sugar': '500 g', 'rice': '2.5 kg', 'milk': '2.5 litre', 'eggs': '1 dozen', 'atta': '1 kg'}\n"
     ]
    }
   ],
   "source": [
    "# I forgot to mention another item, 1kg of atta packet. Can you also add it ?\n",
    "productDict['atta'] = '1 kg'\n",
    "print(productDict)"
   ]
  },
  {
   "cell_type": "code",
   "execution_count": 17,
   "metadata": {},
   "outputs": [
    {
     "name": "stdout",
     "output_type": "stream",
     "text": [
      "{'apple': '250 g', 'sugar': '500 g', 'rice': '1 kg', 'milk': '2.5 litre', 'eggs': '1 dozen', 'atta': '1 kg'}\n"
     ]
    }
   ],
   "source": [
    "# Instead of 2kg of rice, I bought only 1kg of rice. Can you change the corresponding value ?\n",
    "productDict['rice'] = '1 kg'\n",
    "print(productDict)"
   ]
  },
  {
   "cell_type": "code",
   "execution_count": 18,
   "metadata": {},
   "outputs": [
    {
     "name": "stdout",
     "output_type": "stream",
     "text": [
      "('apple', '250 g')\n",
      "('sugar', '500 g')\n",
      "('rice', '1 kg')\n",
      "('milk', '2.5 litre')\n",
      "('eggs', '1 dozen')\n",
      "('atta', '1 kg')\n"
     ]
    }
   ],
   "source": [
    "# Can you list out all these items using a loop.\n",
    "for item in productDict.items():\n",
    "    print (item)"
   ]
  },
  {
   "cell_type": "code",
   "execution_count": 19,
   "metadata": {},
   "outputs": [
    {
     "name": "stdout",
     "output_type": "stream",
     "text": [
      "{'apple': '220 per kg', 'sugar': '43 per kg', 'rice': '45 per kg', 'milk': '30 per litre', 'egg': '60 per dozen'}\n"
     ]
    }
   ],
   "source": [
    "pricingDict = {'apple' : '220 per kg' , 'sugar' : '43 per kg', 'rice':'45 per kg', 'milk': '30 per litre' , 'egg': '60 per dozen'}\n",
    "print(pricingDict)"
   ]
  },
  {
   "cell_type": "code",
   "execution_count": 25,
   "metadata": {},
   "outputs": [
    {
     "name": "stdout",
     "output_type": "stream",
     "text": [
      "220 per kg\n",
      "43 per kg\n",
      "45 per kg\n",
      "30 per litre\n",
      "60 per dozen\n"
     ]
    }
   ],
   "source": [
    "for (p1,q1), (p2,pri) in zip(productDict.items(),pricingDict.items()):\n",
    "    if p1 === p2:\n",
    "        q1.split()[1] =="
   ]
  },
  {
   "cell_type": "raw",
   "metadata": {},
   "source": [
    "Questions on List"
   ]
  },
  {
   "cell_type": "code",
   "execution_count": 33,
   "metadata": {},
   "outputs": [],
   "source": [
    "AI_Companies = ['Amazon','Facebook','HiSilicon','Google','Apple','Microsoft','SenseTime']"
   ]
  },
  {
   "cell_type": "code",
   "execution_count": 34,
   "metadata": {},
   "outputs": [
    {
     "data": {
      "text/plain": [
       "['Amazon',\n",
       " 'Apple',\n",
       " 'Facebook',\n",
       " 'Google',\n",
       " 'HiSilicon',\n",
       " 'Microsoft',\n",
       " 'SenseTime']"
      ]
     },
     "execution_count": 34,
     "metadata": {},
     "output_type": "execute_result"
    }
   ],
   "source": [
    "# Sort the list in ascending order\n",
    "AI_Companies.sort()\n",
    "AI_Companies"
   ]
  },
  {
   "cell_type": "code",
   "execution_count": 35,
   "metadata": {},
   "outputs": [],
   "source": [
    "# Add multiple companies at once 'Nvidia', 'OpenAI' , 'Qualcomm' and 'Reliance' to the list"
   ]
  },
  {
   "cell_type": "code",
   "execution_count": 36,
   "metadata": {},
   "outputs": [
    {
     "data": {
      "text/plain": [
       "['Amazon',\n",
       " 'Apple',\n",
       " 'Facebook',\n",
       " 'Google',\n",
       " 'HiSilicon',\n",
       " 'Microsoft',\n",
       " 'Nvidia',\n",
       " 'OpenAI',\n",
       " 'Qualcomm',\n",
       " 'Reliance',\n",
       " 'SenseTime']"
      ]
     },
     "execution_count": 36,
     "metadata": {},
     "output_type": "execute_result"
    }
   ],
   "source": [
    "AI_Companies.extend(['Nvidia','OpenAI','Qualcomm','Reliance'])\n",
    "AI_Companies.sort()\n",
    "AI_Companies"
   ]
  },
  {
   "cell_type": "code",
   "execution_count": 40,
   "metadata": {},
   "outputs": [
    {
     "data": {
      "text/plain": [
       "['amazon',\n",
       " 'apple',\n",
       " 'facebook',\n",
       " 'google',\n",
       " 'hisilicon',\n",
       " 'microsoft',\n",
       " 'nvidia',\n",
       " 'openai',\n",
       " 'qualcomm',\n",
       " 'reliance',\n",
       " 'sensetime']"
      ]
     },
     "execution_count": 40,
     "metadata": {},
     "output_type": "execute_result"
    }
   ],
   "source": [
    "# Lower the list using List comprehension\n",
    "lengths = [a.lower() for a in AI_Companies]\n",
    "lengths"
   ]
  },
  {
   "cell_type": "code",
   "execution_count": 41,
   "metadata": {},
   "outputs": [
    {
     "data": {
      "text/plain": [
       "['Amazon',\n",
       " 'Apple',\n",
       " 'Facebook',\n",
       " 'Google',\n",
       " 'HiSilicon',\n",
       " 'Microsoft',\n",
       " 'Nvidia',\n",
       " 'OpenAI',\n",
       " 'Qualcomm',\n",
       " 'SenseTime']"
      ]
     },
     "execution_count": 41,
     "metadata": {},
     "output_type": "execute_result"
    }
   ],
   "source": [
    "# Elimiate 'Reliance' from the list\n",
    "AI_Companies.remove('Reliance')\n",
    "AI_Companies"
   ]
  },
  {
   "cell_type": "code",
   "execution_count": null,
   "metadata": {},
   "outputs": [],
   "source": [
    "# Extract 'Facebook', 'Google' and 'Microsoft' using a single command\n"
   ]
  }
 ],
 "metadata": {
  "kernelspec": {
   "display_name": "Python 3",
   "language": "python",
   "name": "python3"
  },
  "language_info": {
   "codemirror_mode": {
    "name": "ipython",
    "version": 3
   },
   "file_extension": ".py",
   "mimetype": "text/x-python",
   "name": "python",
   "nbconvert_exporter": "python",
   "pygments_lexer": "ipython3",
   "version": "3.6.5"
  }
 },
 "nbformat": 4,
 "nbformat_minor": 2
}
